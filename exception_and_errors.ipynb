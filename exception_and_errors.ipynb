{
  "nbformat": 4,
  "nbformat_minor": 0,
  "metadata": {
    "colab": {
      "name": "exception_and_errors.ipynb",
      "provenance": [],
      "collapsed_sections": [],
      "authorship_tag": "ABX9TyNcKtHlpXJnQ7WYdB6f/IEh",
      "include_colab_link": true
    },
    "kernelspec": {
      "name": "python3",
      "display_name": "Python 3"
    },
    "language_info": {
      "name": "python"
    }
  },
  "cells": [
    {
      "cell_type": "markdown",
      "metadata": {
        "id": "view-in-github",
        "colab_type": "text"
      },
      "source": [
        "<a href=\"https://colab.research.google.com/github/GezhinOleg/PyDa_L6/blob/main/exception_and_errors.ipynb\" target=\"_parent\"><img src=\"https://colab.research.google.com/assets/colab-badge.svg\" alt=\"Open In Colab\"/></a>"
      ]
    },
    {
      "cell_type": "markdown",
      "metadata": {
        "id": "DCCnE2TYDSUN"
      },
      "source": [
        ""
      ]
    },
    {
      "cell_type": "markdown",
      "metadata": {
        "id": "1mI-8k5-DUfZ"
      },
      "source": [
        "'''\n",
        "Задание 1\n",
        "Печатные газеты использовали свой формат дат для каждого выпуска.\n",
        "Для каждой газеты из списка напишите формат указанной даты\n",
        "для перевода в объект datetime:\n",
        "The Moscow Times - Wednesday, October 2, 2002\n",
        "The Guardian - Friday, 11.10.13\n",
        "Daily News - Thursday, 18 August 1977\n",
        "'''"
      ]
    },
    {
      "cell_type": "code",
      "metadata": {
        "id": "R2OlSchpDj-z"
      },
      "source": [
        "from datetime import datetime"
      ],
      "execution_count": 1,
      "outputs": []
    },
    {
      "cell_type": "code",
      "metadata": {
        "colab": {
          "base_uri": "https://localhost:8080/"
        },
        "id": "9gRIu4PlDqCc",
        "outputId": "27d2d457-8d24-4de2-aa70-71d5321b53b4"
      },
      "source": [
        "the_moscow_times = 'Friday, 11.10.13'\n",
        "the_guardian = 'Friday, 11.10.13'\n",
        "daily_news = 'Thursday, 18 August 1977'\n",
        "\n",
        "print(datetime.strptime(the_moscow_times, '%A, %d.%m.%y'))\n",
        "print(datetime.strptime(the_guardian, '%A, %m.%d.%y'))\n",
        "print(datetime.strptime(daily_news, '%A, %d %B %Y'))"
      ],
      "execution_count": 2,
      "outputs": [
        {
          "output_type": "stream",
          "text": [
            "2013-10-11 00:00:00\n",
            "2013-11-10 00:00:00\n",
            "1977-08-18 00:00:00\n"
          ],
          "name": "stdout"
        }
      ]
    },
    {
      "cell_type": "markdown",
      "metadata": {
        "id": "Fn7RIJ5fDw8B"
      },
      "source": [
        "Задание 2\n",
        "Дан поток дат в формате YYYY-MM-DD, в которых встречаются некорректные значения:\n",
        "stream = [‘2018-04-02’, ‘2018-02-29’, ‘2018-19-02’]\n",
        "Напишите функцию, которая проверяет эти даты на корректность.\n",
        "Т. е. для каждой даты возвращает True (дата корректна)\n",
        "или False (некорректная дата)."
      ]
    },
    {
      "cell_type": "code",
      "metadata": {
        "colab": {
          "base_uri": "https://localhost:8080/"
        },
        "id": "_Nr4V0eoD0vh",
        "outputId": "b7908ac1-71c7-4bf3-a131-0e9c56b042f6"
      },
      "source": [
        "stream = ['2018-04-02', '2018-02-29', '2018-19-02']\n",
        "for d in stream:\n",
        "    try:\n",
        "        datetime.strptime(d, '%Y-%m-%d')\n",
        "    except:\n",
        "        print(d, 'False (некорректная дата)')\n",
        "    else:\n",
        "        print(d,'True (дата корректна)')"
      ],
      "execution_count": 3,
      "outputs": [
        {
          "output_type": "stream",
          "text": [
            "2018-04-02 True (дата корректна)\n",
            "2018-02-29 False (некорректная дата)\n",
            "2018-19-02 False (некорректная дата)\n"
          ],
          "name": "stdout"
        }
      ]
    },
    {
      "cell_type": "markdown",
      "metadata": {
        "id": "d3Cxp3wnEGo5"
      },
      "source": [
        "Задание 3\n",
        "Напишите функцию date_range, которая возвращает список дат за период\n",
        "от start_date до end_date. Даты должны вводиться в формате YYYY-MM-DD.\n",
        "В случае неверного формата или при start_date > end_date должен\n",
        "возвращаться пустой список."
      ]
    },
    {
      "cell_type": "code",
      "metadata": {
        "id": "FRKge1hxEJ2E"
      },
      "source": [
        "from datetime import datetime\n",
        "from datetime import timedelta"
      ],
      "execution_count": 5,
      "outputs": []
    },
    {
      "cell_type": "code",
      "metadata": {
        "colab": {
          "base_uri": "https://localhost:8080/"
        },
        "id": "Be8NRUbqENgZ",
        "outputId": "48ace91c-d9e0-4cc3-8bed-341d12d64883"
      },
      "source": [
        "start_date = input('Введите дату в формате YYYY-MM-DD: ')\n",
        "end_date = input('Введите дату в формате YYYY-MM-DD: ')"
      ],
      "execution_count": 6,
      "outputs": [
        {
          "output_type": "stream",
          "text": [
            "Введите дату в формате YYYY-MM-DD: 2018-11-02\n",
            "Введите дату в формате YYYY-MM-DD: 2018-11-08\n"
          ],
          "name": "stdout"
        }
      ]
    },
    {
      "cell_type": "code",
      "metadata": {
        "id": "huLm7u8pERFa"
      },
      "source": [
        "def date_true_(s_d, e_d):\n",
        "  '''\n",
        "  функция проверки правильности формата ввода данных. В случае неверного ввода\n",
        "  переменной flag присваивается значение False\n",
        "  '''\n",
        "    flag = True\n",
        "    try:\n",
        "        datetime.strptime(s_d, '%Y-%m-%d')\n",
        "    except:\n",
        "        flag = False\n",
        "        error_s = 'False (некорректная первая дата)'\n",
        "        print(error_s)\n",
        "\n",
        "    try:\n",
        "        datetime.strptime(e_d, '%Y-%m-%d')\n",
        "    except:\n",
        "        flag = False\n",
        "        error_s = 'False (некорректная вторая дата)'\n",
        "        print(error_s)\n",
        "    return flag\n",
        "    # "
      ],
      "execution_count": 7,
      "outputs": []
    },
    {
      "cell_type": "code",
      "metadata": {
        "id": "v2E355FJEUbM"
      },
      "source": [
        "def date_range(s_d, e_d):\n",
        "  '''\n",
        "  функция выводит значения даты, согласно задания если flag имеет значение True\n",
        "  для итерации использована разница значений \"номер дня с 1 января\"\n",
        "  '''\n",
        "    list_date = []\n",
        "    f = date_true_(s_d, e_d)\n",
        "    if  f == True and s_d < e_d:\n",
        "        start = datetime.strptime(s_d, '%Y-%m-%d')\n",
        "        finish = datetime.strptime(e_d, '%Y-%m-%d')\n",
        "        tts = start.timetuple()[7]\n",
        "        ttf = finish.timetuple()[7]\n",
        "        for d in range(ttf - tts + 1):\n",
        "            list_date.append((start + timedelta(days = d)).strftime('%Y-%m-%d'))\n",
        "    elif f == False or s_d > e_d:\n",
        "        return list_date\n",
        "    return list_date"
      ],
      "execution_count": 8,
      "outputs": []
    },
    {
      "cell_type": "markdown",
      "metadata": {
        "id": "o6MQLW9cGvJ2"
      },
      "source": [
        ""
      ]
    },
    {
      "cell_type": "markdown",
      "metadata": {
        "id": "LehH10eXGyCe"
      },
      "source": [
        ""
      ]
    },
    {
      "cell_type": "code",
      "metadata": {
        "id": "DKweVWfzEY2q"
      },
      "source": [
        "def date_range_2(s_d, e_d):\n",
        "  '''\n",
        "  функция выводит значения даты, согласно задания если flag имеет значение True\n",
        "  для итерации использован цикл while, с изменением значения при помощи функции\n",
        "  timedelta(days=1) \n",
        "  '''\n",
        "    start_date_dt = datetime.strptime(s_d, '%Y-%m-%d')\n",
        "    end_date_dt = datetime.strptime(e_d, '%Y-%m-%d')\n",
        "    list_date = []\n",
        "    f = date_true_(s_d, e_d)\n",
        "    if  f == True and s_d < e_d:\n",
        "        while start_date_dt <= end_date_dt:\n",
        "            list_date.append(start_date_dt.strftime('%Y-%m-%d'))\n",
        "            start_date_dt += timedelta(days=1)\n",
        "    elif f == False or s_d > e_d:\n",
        "        return list_date\n",
        "    return list_date"
      ],
      "execution_count": 9,
      "outputs": []
    },
    {
      "cell_type": "code",
      "metadata": {
        "colab": {
          "base_uri": "https://localhost:8080/"
        },
        "id": "_6-YIc1eEdYn",
        "outputId": "d79feb6c-b8d3-4d68-9bdb-bac4dade0746"
      },
      "source": [
        "print(*date_range(start_date, end_date))\n",
        "print(date_range_2(start_date, end_date))"
      ],
      "execution_count": 10,
      "outputs": [
        {
          "output_type": "stream",
          "text": [
            "2018-11-02 2018-11-03 2018-11-04 2018-11-05 2018-11-06 2018-11-07 2018-11-08\n",
            "['2018-11-02', '2018-11-03', '2018-11-04', '2018-11-05', '2018-11-06', '2018-11-07', '2018-11-08']\n"
          ],
          "name": "stdout"
        }
      ]
    },
    {
      "cell_type": "markdown",
      "metadata": {
        "id": "SIHqqbutG0_9"
      },
      "source": [
        "Ваш коллега прислал код функции:\n",
        "DEFAULT_USER_COUNT = 3\n",
        "def delete_and_return_last_user(region, default_list=[‘A100’, ‘A101’, ‘A102’]):\n",
        "\"\"“\n",
        "Удаляет из списка default_list последнего пользователя\n",
        "и возвращает ID нового последнего пользователя.\n",
        "”\"\"\n",
        "element_to_delete = default_list[-1]\n",
        "default_list.remove(element_to_delete)\n",
        "1\n",
        "return default_list[DEFAULT_USER_COUNT-2]\n",
        "\n",
        "При однократном вызове этой функции все работает корректно:\n",
        "delete_and_return_last_user(1)\n",
        "‘A101’\n",
        "Однако, при повторном вызове получается ошибка IndexError: list index out of range.\n",
        "Задание:\n",
        "    Что значит ошибка list index out of range?\n",
        "    Почему при первом запуске функция работает корректно, а при втором - нет?\n",
        "'''\n",
        "list index out of range - индекс списка вне диапазона.\n",
        "После первого удаления элемента списка, изменяется индексация исходного списка,\n",
        "и при повторном проходе, программа не обнаруживает элемента под заданным\n",
        "индексом, так как он уже удален при первом проходе.Для того чтобы не\n",
        "возникало таких проблем, можно создать пустой список и наполнить его\n",
        "оставшимися элементами и работать с копией.\n"
      ]
    }
  ]
}